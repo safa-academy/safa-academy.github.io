{
 "cells": [
  {
   "cell_type": "markdown",
   "id": "699cddc9",
   "metadata": {},
   "source": [
    "# <font color='green' size='6'>Beginner </font> <font size='6'>Student's Book</font>          "
   ]
  },
  {
   "cell_type": "markdown",
   "id": "5c77d0ef",
   "metadata": {},
   "source": [
    "* ## <font color='green'>Contents</font>"
   ]
  },
  {
   "cell_type": "markdown",
   "id": "7cb34301",
   "metadata": {},
   "source": [
    "| Unit                  | Grammar                                                   | Vocabulary | Reading | Listening | Speaking/Writing | Everyday English |\n",
    "|:-----------------------|:-----------------------------------------------------------|:------------|:---------|:-----------|:------------------|:------------------|\n",
    "| 1. Hello              | am/is<br>my/your<br>This is...<br>How are you |Everyday objects<br>Plurals<br>Numbers            |         |           |Introductions                  |Goods morning!                  |\n",
    "| 2. Your world         |                                                           |            |         |           |                  |                  |\n",
    "| 3. All about you      |                                                           |            |         |           |                  |                  |\n",
    "| 4. Family and friends |                                                           |            |         |           |                  |                  |\n",
    "| 5. Things I likes!    |                                                           |            |         |           |                  |                  |\n",
    "|                       |                                                           |            |         |           |                  |                  |\n",
    "|                       |                                                           |            |         |           |                  |                  |\n",
    "|                       |                                                           |            |         |           |                  |                  |\n",
    "|                       |                                                           |            |         |           |                  |                  |\n",
    "|                       |                                                           |            |         |           |                  |                  |\n",
    "|                       |                                                           |            |         |           |                  |                  |\n",
    "|                       |                                                           |            |         |           |                  |                  |\n",
    "|                       |                                                           |            |         |           |                  |                  |\n",
    "|                       |                                                           |            |         |           |                  |                  |"
   ]
  },
  {
   "cell_type": "markdown",
   "id": "f9ff8bc0",
   "metadata": {},
   "source": [
    "* ## <font color='green'>Unit 1</font>"
   ]
  },
  {
   "cell_type": "markdown",
   "id": "5d1758f4",
   "metadata": {},
   "source": [
    "<img src=\"./photo/headway/beginner/hello.PNG\" alt=\"Unit 1 hello\" style=\"height: 250px; width:900px;\"/>"
   ]
  },
  {
   "cell_type": "markdown",
   "id": "73054d4c",
   "metadata": {},
   "source": [
    "## What's your name?"
   ]
  },
  {
   "cell_type": "markdown",
   "id": "eec1464e",
   "metadata": {},
   "source": [
    "Read and listen. Say your name."
   ]
  },
  {
   "cell_type": "markdown",
   "id": "17184a3f",
   "metadata": {},
   "source": [
    "<audio controls=\"controls\" src=\"./audio/headway/beginner/HEADWA1-1.AAC\"> aaaa </audio>"
   ]
  },
  {
   "cell_type": "markdown",
   "id": "802c7937",
   "metadata": {},
   "source": [
    "<img src=\"./photo/headway/beginner/hello1-1.PNG\" alt=\"Unit 1 name\" style=\"height: 250px; width:900px;\"/>"
   ]
  },
  {
   "cell_type": "markdown",
   "id": "6f292e4a",
   "metadata": {},
   "source": [
    "<font color='#943ee7' size='6'>Grammar</font>"
   ]
  },
  {
   "cell_type": "markdown",
   "id": "f76dbfc7",
   "metadata": {},
   "source": [
    "<font size='4'>**am/is, my/your**</font>"
   ]
  },
  {
   "cell_type": "markdown",
   "id": "2048901c",
   "metadata": {},
   "source": [
    "<font color='green' size='4' >**1**</font> 1.2 Read and listen."
   ]
  },
  {
   "cell_type": "markdown",
   "id": "d912adbe",
   "metadata": {},
   "source": [
    "<audio controls=\"controls\" src=\"./audio/headway/beginner/HEADWA1-0.AAC\"> aaaa </audio>"
   ]
  },
  {
   "cell_type": "markdown",
   "id": "d3de8eaf",
   "metadata": {},
   "source": [
    "<img  align=\"left\" src=\"./photo/headway/beginner/hello1-2.PNG\" alt=\"Unit 1 name\" style=\"height: 100px; width:400px;\"/>"
   ]
  },
  {
   "cell_type": "markdown",
   "id": "cbf17155",
   "metadata": {},
   "source": [
    "<font color='green' size='4' >**2**</font> 1.2 Listen again and repeat."
   ]
  },
  {
   "cell_type": "markdown",
   "id": "fc4c1343",
   "metadata": {},
   "source": [
    "<audio controls=\"controls\" src=\"./audio/headway/beginner/HEADWA~2.AAC\"> aaaa </audio>"
   ]
  },
  {
   "cell_type": "markdown",
   "id": "d216253c",
   "metadata": {},
   "source": [
    "<table  style='float:left;'>\n",
    "<thead>\n",
    "  <tr>\n",
    "    <th style='text-align:left;'><font color='#943ee7' size='4'>GRAMMAR SPOT</font></th>\n",
    "  </tr>\n",
    "</thead>\n",
    "<tbody>\n",
    "  <tr>\n",
    "    <td style='text-align:left;'>I'<b>m</b> = I <b>am</b></td>\n",
    "  </tr>\n",
    "  <tr>\n",
    "    <td style='text-align:left;'>What'<b>s</b> = What <b>is</b></td>\n",
    "  </tr>\n",
    "  <tr>\n",
    "    <td style='text-align:left;'>name'<b>s</b> = name <b>is</b> </td>\n",
    "  </tr>\n",
    "</tbody>\n",
    "</table>"
   ]
  },
  {
   "cell_type": "markdown",
   "id": "2b4c4b31",
   "metadata": {},
   "source": [
    "<font color='green' size='4' >**3** Stand up and practise.</font>"
   ]
  },
  {
   "cell_type": "markdown",
   "id": "4bf3b58e",
   "metadata": {},
   "source": [
    "<table style='border-style: solid;float:left;color:green'>\n",
    "<tbody>\n",
    "<tr>\n",
    "<td style='text-align:left;'><font color='#943ee7' size='3'><b>Hello, I'm ...................</b><br></font></td>\n",
    "</tr>\n",
    "<tr>\n",
    "<td style='text-align:left;'><font color='#943ee7' size='3'><b>What's your name?</b></font></td>\n",
    "</tr>\n",
    "<tr>\n",
    "<td style='text-align:left;'><font color='#943ee7' size='3'><b>My name's ..................</b></font></td>\n",
    "</tr>\n",
    "</tbody>\n",
    "</table>"
   ]
  },
  {
   "cell_type": "markdown",
   "id": "589bba85",
   "metadata": {},
   "source": [
    "<font size='4' >**Introductions** </font>"
   ]
  },
  {
   "cell_type": "markdown",
   "id": "8bf82d0c",
   "metadata": {},
   "source": [
    "<font color='green' size='4' >**This is**</font>"
   ]
  },
  {
   "cell_type": "markdown",
   "id": "e15ef56d",
   "metadata": {},
   "source": [
    "<img  align=\"left\" src=\"./photo/headway/beginner/hello1-3.PNG\" alt=\"Unit 1 name\" />"
   ]
  },
  {
   "cell_type": "markdown",
   "id": "b8d981ef",
   "metadata": {},
   "source": [
    "<font color='green' size='4' >**1**</font> 1.3 Read and listen."
   ]
  },
  {
   "cell_type": "markdown",
   "id": "f632696a",
   "metadata": {},
   "source": [
    "<audio controls=\"controls\" src=\"./audio/headway/beginner/HEADWA-1-3.AAC\"> aaaa </audio>"
   ]
  },
  {
   "cell_type": "markdown",
   "id": "fea574d2",
   "metadata": {},
   "source": [
    "<img  align=\"left\" src=\"./photo/headway/beginner/this-is-1.PNG\" alt=\"Unit 1 name\" style=\"height: 150px; width:400px;\"/>"
   ]
  },
  {
   "cell_type": "markdown",
   "id": "04113125",
   "metadata": {},
   "source": [
    "<font color='green' size='3' >**1.3**</font> Listen again and repeat."
   ]
  },
  {
   "cell_type": "markdown",
   "id": "e5c132ed",
   "metadata": {},
   "source": [
    "<audio controls=\"controls\" src=\"./audio/headway/beginner/HEADWA-1-3.AAC\"> aaaa </audio>"
   ]
  },
  {
   "cell_type": "markdown",
   "id": "1463cbbc",
   "metadata": {},
   "source": [
    "<font color='green' size='4' >**2**</font>  Practise in groups ofthree."
   ]
  },
  {
   "cell_type": "markdown",
   "id": "23847b79",
   "metadata": {},
   "source": [
    "<table style='border-style: solid;float:left;color:green'>\n",
    "<tbody>\n",
    "<tr>\n",
    "<td style='text-align:left;'><font color='#943ee7' size='3'><b>________________, this is_______________.</b><br></font></td>\n",
    "</tr>\n",
    "<tr>\n",
    "<td style='text-align:left;'><font color='#943ee7' size='3'><b>________________, this is_______________.</b></font></td>\n",
    "</tr>\n",
    "<tr>\n",
    "<td style='text-align:left;'><font color='#943ee7' size='3'><b>Hello,___________________</b></font></td>\n",
    "</tr>\n",
    "<tr>\n",
    "<td style='text-align:left;'><font color='#943ee7' size='3'><b>Hello,___________________</b></font></td>\n",
    "</tr>\n",
    "</tbody>\n",
    "</table>"
   ]
  },
  {
   "cell_type": "markdown",
   "id": "a8c9ffe3",
   "metadata": {},
   "source": [
    "<font color='green' size='5'>**Nice to meet you**</font>"
   ]
  },
  {
   "cell_type": "markdown",
   "id": "17f46f61",
   "metadata": {},
   "source": [
    "<font color='green' size='4' >**3**</font> 1.4 Read and listen."
   ]
  },
  {
   "cell_type": "markdown",
   "id": "ef522d62",
   "metadata": {},
   "source": [
    "<audio controls=\"controls\" src=\"./audio/headway/beginner/HEADWA-1-4.AAC\"> aaaa </audio>"
   ]
  },
  {
   "cell_type": "markdown",
   "id": "f9c3095c",
   "metadata": {},
   "source": [
    "<img  align=\"left\" src=\"./photo/headway/beginner/nice-to-meet-you1.PNG\" alt=\"Unit 1 name\" style=\"height: 500px; width:500px;\"/>"
   ]
  },
  {
   "cell_type": "markdown",
   "id": "8c32bfce",
   "metadata": {},
   "source": [
    "<font color='green' size='4' >**1.4**</font> Listen again and repeat."
   ]
  },
  {
   "cell_type": "markdown",
   "id": "15b76890",
   "metadata": {},
   "source": [
    "<audio controls=\"controls\" src=\"./audio/headway/beginner/HEADWA-1-4.AAC\"> aaaa </audio>"
   ]
  },
  {
   "cell_type": "markdown",
   "id": "5b40d6c1",
   "metadata": {},
   "source": [
    "<font color='green' size='4' >**4**</font>  Practise in pairs. Say your first name and your surname."
   ]
  },
  {
   "cell_type": "markdown",
   "id": "a09eebdc",
   "metadata": {},
   "source": [
    "<table style='border-style: solid;float:left;color:green'>\n",
    "<tbody>\n",
    "<tr>\n",
    "<td style='text-align:left;'><font color='#943ee7' size='3'><b>A</b> Hello, My name's __________ ___________.<br></font></td>\n",
    "</tr>\n",
    "<tr>\n",
    "<td style='text-align:left;'><font color='#943ee7' size='3'><b>B</b> Hello, I'm ___________ ____________, Nice to meet you.</font></td>\n",
    "</tr>\n",
    "<tr>\n",
    "<td style='text-align:left;'><font color='#943ee7' size='3'><b>A</b> Nice to meet you, too.</font></td>\n",
    "</tr>\n",
    "</tbody>\n",
    "</table>"
   ]
  }
 ],
 "metadata": {
  "kernelspec": {
   "display_name": "Python 3 (ipykernel)",
   "language": "python",
   "name": "python3"
  },
  "language_info": {
   "codemirror_mode": {
    "name": "ipython",
    "version": 3
   },
   "file_extension": ".py",
   "mimetype": "text/x-python",
   "name": "python",
   "nbconvert_exporter": "python",
   "pygments_lexer": "ipython3",
   "version": "3.11.3"
  }
 },
 "nbformat": 4,
 "nbformat_minor": 5
}
